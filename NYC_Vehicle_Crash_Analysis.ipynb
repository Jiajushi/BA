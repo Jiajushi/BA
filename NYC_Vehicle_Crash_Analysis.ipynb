{
 "cells": [
  {
   "cell_type": "markdown",
   "id": "8cf39c9c-f2f0-4a40-aed5-98525ca67b09",
   "metadata": {
    "tags": []
   },
   "source": [
    "# NY Motor Vehicle Collisions – Exploratory Data Analysis  \n",
    "In this notebook, we analyze New York’s Vehicular crash data available at https://data.cityofnewyork.us/Public-Safety/Motor-Vehicle-Collisions-Crashes/h9gi-nx95\n",
    "\n",
    "\n",
    "The data contains information from all police reported motor vehicle collisions in NYC. The information for this dataset is collated from the police report, called MV104-AN, which is required to be filled out for collisions where someone is injured or killed, or where there is at least $1000 worth of damage.\n",
    "\n",
    "Data is available from 2012-07-01 onwards, however for this analysis, we will limit ourselves to the period up to 2023-08-15, which is when the data was downloaded.\n",
    "\n",
    "We find that this data contains over 2 million observations, which allows us to explore several aspects of vehicle crashes in NY's boroughs.\n",
    "\n",
    "The data dictionary for the data is also available at the URL above.\n",
    "\n",
    "First, we perform unstructured exploration of the data, and then try to answer the following questions:\n",
    "\n",
    "- We look for which borough has had the maximum number of crashes reported since 2012.\n",
    "\n",
    "- We relate the number of crashes to to the borough's population to find out which borough has the maximum number of crashes for every 100,000 people. Even though the data does not have this information, we can combine the crash data with the population estimates for the boroughs also available from the City of New York's website (https://data.cityofnewyork.us/City-Government/New-York-City-Population-by-Borough-1950-2040/xywu-7bv9)\n",
    "\n",
    "| Borough | Population |\n",
    "| --- | --- |\n",
    "| Bronx | 1446788 |\n",
    "| Brooklyn | 2648452 |\n",
    "| Manhattan | 1638281 |\n",
    "| Queens | 2330295 |\n",
    "| Staten Island | 487155 |  \n",
    "\n",
    "  \n",
    "- We look for the leading cause of crashes\n",
    "\n",
    "- We also look for the top-3 causes of crashes, and try to calculate what proportion of all crashes are caused by these top-3 causes.\n",
    "\n",
    "- We then look to some of the more serious implications of crashes by examining how many accidents involved at least one fatality.\n",
    "\n",
    "- We then compute, on average, out of every 1000 accidents, how many have resulted in at least one person dead.\n",
    "\n",
    "- We also look for missing data and try to compute the proportion of accidents in the data that do not have a Borough code.\n",
    "\n",
    "- The fields 'VEHICLE TYPE CODE 1' and 'VEHICLE TYPE CODE 2' represent the first two vehicles involved in the accident.  We look for which combinations of vehicles have the most number of accidents.\n"
   ]
  },
  {
   "cell_type": "code",
   "execution_count": 1,
   "id": "e90154cc-c88a-4fe4-8aa2-f24d9a27ffac",
   "metadata": {
    "tags": []
   },
   "outputs": [],
   "source": [
    "import pandas as pd\n",
    "import numpy as np\n",
    "import seaborn as sns\n",
    "import os\n",
    "import matplotlib.pyplot as plt\n",
    "import phik\n",
    "from IPython.display import Markdown as md"
   ]
  },
  {
   "cell_type": "code",
   "execution_count": 2,
   "id": "aa8a1971-98b8-41ff-801d-eb9da4758bb6",
   "metadata": {
    "tags": []
   },
   "outputs": [
    {
     "data": {
      "text/html": [
       "<div>\n",
       "<style scoped>\n",
       "    .dataframe tbody tr th:only-of-type {\n",
       "        vertical-align: middle;\n",
       "    }\n",
       "\n",
       "    .dataframe tbody tr th {\n",
       "        vertical-align: top;\n",
       "    }\n",
       "\n",
       "    .dataframe thead th {\n",
       "        text-align: right;\n",
       "    }\n",
       "</style>\n",
       "<table border=\"1\" class=\"dataframe\">\n",
       "  <thead>\n",
       "    <tr style=\"text-align: right;\">\n",
       "      <th></th>\n",
       "      <th>CRASH DATE_CRASH TIME</th>\n",
       "      <th>BOROUGH</th>\n",
       "      <th>ZIP CODE</th>\n",
       "      <th>LATITUDE</th>\n",
       "      <th>LONGITUDE</th>\n",
       "      <th>LOCATION</th>\n",
       "      <th>ON STREET NAME</th>\n",
       "      <th>CROSS STREET NAME</th>\n",
       "      <th>OFF STREET NAME</th>\n",
       "      <th>NUMBER OF PERSONS INJURED</th>\n",
       "      <th>...</th>\n",
       "      <th>CONTRIBUTING FACTOR VEHICLE 2</th>\n",
       "      <th>CONTRIBUTING FACTOR VEHICLE 3</th>\n",
       "      <th>CONTRIBUTING FACTOR VEHICLE 4</th>\n",
       "      <th>CONTRIBUTING FACTOR VEHICLE 5</th>\n",
       "      <th>COLLISION_ID</th>\n",
       "      <th>VEHICLE TYPE CODE 1</th>\n",
       "      <th>VEHICLE TYPE CODE 2</th>\n",
       "      <th>VEHICLE TYPE CODE 3</th>\n",
       "      <th>VEHICLE TYPE CODE 4</th>\n",
       "      <th>VEHICLE TYPE CODE 5</th>\n",
       "    </tr>\n",
       "  </thead>\n",
       "  <tbody>\n",
       "    <tr>\n",
       "      <th>0</th>\n",
       "      <td>2021-09-11 02:39:00</td>\n",
       "      <td>NaN</td>\n",
       "      <td>NaN</td>\n",
       "      <td>NaN</td>\n",
       "      <td>NaN</td>\n",
       "      <td>NaN</td>\n",
       "      <td>WHITESTONE EXPRESSWAY</td>\n",
       "      <td>20 AVENUE</td>\n",
       "      <td>NaN</td>\n",
       "      <td>2.0</td>\n",
       "      <td>...</td>\n",
       "      <td>Unspecified</td>\n",
       "      <td>NaN</td>\n",
       "      <td>NaN</td>\n",
       "      <td>NaN</td>\n",
       "      <td>4455765</td>\n",
       "      <td>Sedan</td>\n",
       "      <td>Sedan</td>\n",
       "      <td>NaN</td>\n",
       "      <td>NaN</td>\n",
       "      <td>NaN</td>\n",
       "    </tr>\n",
       "    <tr>\n",
       "      <th>1</th>\n",
       "      <td>2022-03-26 11:45:00</td>\n",
       "      <td>NaN</td>\n",
       "      <td>NaN</td>\n",
       "      <td>NaN</td>\n",
       "      <td>NaN</td>\n",
       "      <td>NaN</td>\n",
       "      <td>QUEENSBORO BRIDGE UPPER</td>\n",
       "      <td>NaN</td>\n",
       "      <td>NaN</td>\n",
       "      <td>1.0</td>\n",
       "      <td>...</td>\n",
       "      <td>NaN</td>\n",
       "      <td>NaN</td>\n",
       "      <td>NaN</td>\n",
       "      <td>NaN</td>\n",
       "      <td>4513547</td>\n",
       "      <td>Sedan</td>\n",
       "      <td>NaN</td>\n",
       "      <td>NaN</td>\n",
       "      <td>NaN</td>\n",
       "      <td>NaN</td>\n",
       "    </tr>\n",
       "    <tr>\n",
       "      <th>2</th>\n",
       "      <td>2022-06-29 06:55:00</td>\n",
       "      <td>NaN</td>\n",
       "      <td>NaN</td>\n",
       "      <td>NaN</td>\n",
       "      <td>NaN</td>\n",
       "      <td>NaN</td>\n",
       "      <td>THROGS NECK BRIDGE</td>\n",
       "      <td>NaN</td>\n",
       "      <td>NaN</td>\n",
       "      <td>0.0</td>\n",
       "      <td>...</td>\n",
       "      <td>Unspecified</td>\n",
       "      <td>NaN</td>\n",
       "      <td>NaN</td>\n",
       "      <td>NaN</td>\n",
       "      <td>4541903</td>\n",
       "      <td>Sedan</td>\n",
       "      <td>Pick-up Truck</td>\n",
       "      <td>NaN</td>\n",
       "      <td>NaN</td>\n",
       "      <td>NaN</td>\n",
       "    </tr>\n",
       "    <tr>\n",
       "      <th>3</th>\n",
       "      <td>2021-09-11 09:35:00</td>\n",
       "      <td>BROOKLYN</td>\n",
       "      <td>11208.0</td>\n",
       "      <td>40.667202</td>\n",
       "      <td>-73.866500</td>\n",
       "      <td>(40.667202, -73.8665)</td>\n",
       "      <td>NaN</td>\n",
       "      <td>NaN</td>\n",
       "      <td>1211      LORING AVENUE</td>\n",
       "      <td>0.0</td>\n",
       "      <td>...</td>\n",
       "      <td>NaN</td>\n",
       "      <td>NaN</td>\n",
       "      <td>NaN</td>\n",
       "      <td>NaN</td>\n",
       "      <td>4456314</td>\n",
       "      <td>Sedan</td>\n",
       "      <td>NaN</td>\n",
       "      <td>NaN</td>\n",
       "      <td>NaN</td>\n",
       "      <td>NaN</td>\n",
       "    </tr>\n",
       "    <tr>\n",
       "      <th>4</th>\n",
       "      <td>2021-12-14 08:13:00</td>\n",
       "      <td>BROOKLYN</td>\n",
       "      <td>11233.0</td>\n",
       "      <td>40.683304</td>\n",
       "      <td>-73.917274</td>\n",
       "      <td>(40.683304, -73.917274)</td>\n",
       "      <td>SARATOGA AVENUE</td>\n",
       "      <td>DECATUR STREET</td>\n",
       "      <td>NaN</td>\n",
       "      <td>0.0</td>\n",
       "      <td>...</td>\n",
       "      <td>NaN</td>\n",
       "      <td>NaN</td>\n",
       "      <td>NaN</td>\n",
       "      <td>NaN</td>\n",
       "      <td>4486609</td>\n",
       "      <td>NaN</td>\n",
       "      <td>NaN</td>\n",
       "      <td>NaN</td>\n",
       "      <td>NaN</td>\n",
       "      <td>NaN</td>\n",
       "    </tr>\n",
       "    <tr>\n",
       "      <th>...</th>\n",
       "      <td>...</td>\n",
       "      <td>...</td>\n",
       "      <td>...</td>\n",
       "      <td>...</td>\n",
       "      <td>...</td>\n",
       "      <td>...</td>\n",
       "      <td>...</td>\n",
       "      <td>...</td>\n",
       "      <td>...</td>\n",
       "      <td>...</td>\n",
       "      <td>...</td>\n",
       "      <td>...</td>\n",
       "      <td>...</td>\n",
       "      <td>...</td>\n",
       "      <td>...</td>\n",
       "      <td>...</td>\n",
       "      <td>...</td>\n",
       "      <td>...</td>\n",
       "      <td>...</td>\n",
       "      <td>...</td>\n",
       "      <td>...</td>\n",
       "    </tr>\n",
       "    <tr>\n",
       "      <th>2018240</th>\n",
       "      <td>2023-07-03 18:05:00</td>\n",
       "      <td>NaN</td>\n",
       "      <td>NaN</td>\n",
       "      <td>40.866806</td>\n",
       "      <td>-73.931010</td>\n",
       "      <td>(40.866806, -73.93101)</td>\n",
       "      <td>RIVERSIDE DRIVE</td>\n",
       "      <td>NaN</td>\n",
       "      <td>NaN</td>\n",
       "      <td>0.0</td>\n",
       "      <td>...</td>\n",
       "      <td>Unspecified</td>\n",
       "      <td>NaN</td>\n",
       "      <td>NaN</td>\n",
       "      <td>NaN</td>\n",
       "      <td>4648110</td>\n",
       "      <td>Sedan</td>\n",
       "      <td>Sedan</td>\n",
       "      <td>NaN</td>\n",
       "      <td>NaN</td>\n",
       "      <td>NaN</td>\n",
       "    </tr>\n",
       "    <tr>\n",
       "      <th>2018241</th>\n",
       "      <td>2023-07-22 21:39:00</td>\n",
       "      <td>BRONX</td>\n",
       "      <td>10457.0</td>\n",
       "      <td>40.844177</td>\n",
       "      <td>-73.902920</td>\n",
       "      <td>(40.844177, -73.90292)</td>\n",
       "      <td>EAST 174 STREET</td>\n",
       "      <td>WEBSTER AVENUE</td>\n",
       "      <td>NaN</td>\n",
       "      <td>1.0</td>\n",
       "      <td>...</td>\n",
       "      <td>NaN</td>\n",
       "      <td>NaN</td>\n",
       "      <td>NaN</td>\n",
       "      <td>NaN</td>\n",
       "      <td>4648117</td>\n",
       "      <td>Sedan</td>\n",
       "      <td>NaN</td>\n",
       "      <td>NaN</td>\n",
       "      <td>NaN</td>\n",
       "      <td>NaN</td>\n",
       "    </tr>\n",
       "    <tr>\n",
       "      <th>2018242</th>\n",
       "      <td>2023-07-02 17:55:00</td>\n",
       "      <td>MANHATTAN</td>\n",
       "      <td>10006.0</td>\n",
       "      <td>40.711033</td>\n",
       "      <td>-74.014540</td>\n",
       "      <td>(40.711033, -74.01454)</td>\n",
       "      <td>WEST STREET</td>\n",
       "      <td>LIBERTY STREET</td>\n",
       "      <td>NaN</td>\n",
       "      <td>0.0</td>\n",
       "      <td>...</td>\n",
       "      <td>NaN</td>\n",
       "      <td>NaN</td>\n",
       "      <td>NaN</td>\n",
       "      <td>NaN</td>\n",
       "      <td>4648366</td>\n",
       "      <td>Taxi</td>\n",
       "      <td>NaN</td>\n",
       "      <td>NaN</td>\n",
       "      <td>NaN</td>\n",
       "      <td>NaN</td>\n",
       "    </tr>\n",
       "    <tr>\n",
       "      <th>2018243</th>\n",
       "      <td>2023-07-22 13:15:00</td>\n",
       "      <td>QUEENS</td>\n",
       "      <td>11433.0</td>\n",
       "      <td>40.691580</td>\n",
       "      <td>-73.793190</td>\n",
       "      <td>(40.69158, -73.79319)</td>\n",
       "      <td>110 AVENUE</td>\n",
       "      <td>157 STREET</td>\n",
       "      <td>NaN</td>\n",
       "      <td>1.0</td>\n",
       "      <td>...</td>\n",
       "      <td>Driver Inattention/Distraction</td>\n",
       "      <td>NaN</td>\n",
       "      <td>NaN</td>\n",
       "      <td>NaN</td>\n",
       "      <td>4648129</td>\n",
       "      <td>Station Wagon/Sport Utility Vehicle</td>\n",
       "      <td>E-Bike</td>\n",
       "      <td>NaN</td>\n",
       "      <td>NaN</td>\n",
       "      <td>NaN</td>\n",
       "    </tr>\n",
       "    <tr>\n",
       "      <th>2018244</th>\n",
       "      <td>2023-07-22 03:00:00</td>\n",
       "      <td>QUEENS</td>\n",
       "      <td>11433.0</td>\n",
       "      <td>40.700240</td>\n",
       "      <td>-73.792854</td>\n",
       "      <td>(40.70024, -73.792854)</td>\n",
       "      <td>SOUTH ROAD</td>\n",
       "      <td>164 STREET</td>\n",
       "      <td>NaN</td>\n",
       "      <td>0.0</td>\n",
       "      <td>...</td>\n",
       "      <td>NaN</td>\n",
       "      <td>NaN</td>\n",
       "      <td>NaN</td>\n",
       "      <td>NaN</td>\n",
       "      <td>4647913</td>\n",
       "      <td>Sedan</td>\n",
       "      <td>NaN</td>\n",
       "      <td>NaN</td>\n",
       "      <td>NaN</td>\n",
       "      <td>NaN</td>\n",
       "    </tr>\n",
       "  </tbody>\n",
       "</table>\n",
       "<p>2018245 rows × 28 columns</p>\n",
       "</div>"
      ],
      "text/plain": [
       "        CRASH DATE_CRASH TIME    BOROUGH ZIP CODE   LATITUDE  LONGITUDE  \\\n",
       "0         2021-09-11 02:39:00        NaN      NaN        NaN        NaN   \n",
       "1         2022-03-26 11:45:00        NaN      NaN        NaN        NaN   \n",
       "2         2022-06-29 06:55:00        NaN      NaN        NaN        NaN   \n",
       "3         2021-09-11 09:35:00   BROOKLYN  11208.0  40.667202 -73.866500   \n",
       "4         2021-12-14 08:13:00   BROOKLYN  11233.0  40.683304 -73.917274   \n",
       "...                       ...        ...      ...        ...        ...   \n",
       "2018240   2023-07-03 18:05:00        NaN      NaN  40.866806 -73.931010   \n",
       "2018241   2023-07-22 21:39:00      BRONX  10457.0  40.844177 -73.902920   \n",
       "2018242   2023-07-02 17:55:00  MANHATTAN  10006.0  40.711033 -74.014540   \n",
       "2018243   2023-07-22 13:15:00     QUEENS  11433.0  40.691580 -73.793190   \n",
       "2018244   2023-07-22 03:00:00     QUEENS  11433.0  40.700240 -73.792854   \n",
       "\n",
       "                        LOCATION           ON STREET NAME CROSS STREET NAME  \\\n",
       "0                            NaN    WHITESTONE EXPRESSWAY         20 AVENUE   \n",
       "1                            NaN  QUEENSBORO BRIDGE UPPER               NaN   \n",
       "2                            NaN       THROGS NECK BRIDGE               NaN   \n",
       "3          (40.667202, -73.8665)                      NaN               NaN   \n",
       "4        (40.683304, -73.917274)          SARATOGA AVENUE    DECATUR STREET   \n",
       "...                          ...                      ...               ...   \n",
       "2018240   (40.866806, -73.93101)          RIVERSIDE DRIVE               NaN   \n",
       "2018241   (40.844177, -73.90292)          EAST 174 STREET    WEBSTER AVENUE   \n",
       "2018242   (40.711033, -74.01454)              WEST STREET    LIBERTY STREET   \n",
       "2018243    (40.69158, -73.79319)               110 AVENUE        157 STREET   \n",
       "2018244   (40.70024, -73.792854)               SOUTH ROAD        164 STREET   \n",
       "\n",
       "                 OFF STREET NAME  NUMBER OF PERSONS INJURED  ...  \\\n",
       "0                            NaN                        2.0  ...   \n",
       "1                            NaN                        1.0  ...   \n",
       "2                            NaN                        0.0  ...   \n",
       "3        1211      LORING AVENUE                        0.0  ...   \n",
       "4                            NaN                        0.0  ...   \n",
       "...                          ...                        ...  ...   \n",
       "2018240                      NaN                        0.0  ...   \n",
       "2018241                      NaN                        1.0  ...   \n",
       "2018242                      NaN                        0.0  ...   \n",
       "2018243                      NaN                        1.0  ...   \n",
       "2018244                      NaN                        0.0  ...   \n",
       "\n",
       "          CONTRIBUTING FACTOR VEHICLE 2  CONTRIBUTING FACTOR VEHICLE 3  \\\n",
       "0                           Unspecified                            NaN   \n",
       "1                                   NaN                            NaN   \n",
       "2                           Unspecified                            NaN   \n",
       "3                                   NaN                            NaN   \n",
       "4                                   NaN                            NaN   \n",
       "...                                 ...                            ...   \n",
       "2018240                     Unspecified                            NaN   \n",
       "2018241                             NaN                            NaN   \n",
       "2018242                             NaN                            NaN   \n",
       "2018243  Driver Inattention/Distraction                            NaN   \n",
       "2018244                             NaN                            NaN   \n",
       "\n",
       "         CONTRIBUTING FACTOR VEHICLE 4  CONTRIBUTING FACTOR VEHICLE 5  \\\n",
       "0                                  NaN                            NaN   \n",
       "1                                  NaN                            NaN   \n",
       "2                                  NaN                            NaN   \n",
       "3                                  NaN                            NaN   \n",
       "4                                  NaN                            NaN   \n",
       "...                                ...                            ...   \n",
       "2018240                            NaN                            NaN   \n",
       "2018241                            NaN                            NaN   \n",
       "2018242                            NaN                            NaN   \n",
       "2018243                            NaN                            NaN   \n",
       "2018244                            NaN                            NaN   \n",
       "\n",
       "         COLLISION_ID                  VEHICLE TYPE CODE 1  \\\n",
       "0             4455765                                Sedan   \n",
       "1             4513547                                Sedan   \n",
       "2             4541903                                Sedan   \n",
       "3             4456314                                Sedan   \n",
       "4             4486609                                  NaN   \n",
       "...               ...                                  ...   \n",
       "2018240       4648110                                Sedan   \n",
       "2018241       4648117                                Sedan   \n",
       "2018242       4648366                                 Taxi   \n",
       "2018243       4648129  Station Wagon/Sport Utility Vehicle   \n",
       "2018244       4647913                                Sedan   \n",
       "\n",
       "         VEHICLE TYPE CODE 2 VEHICLE TYPE CODE 3 VEHICLE TYPE CODE 4  \\\n",
       "0                      Sedan                 NaN                 NaN   \n",
       "1                        NaN                 NaN                 NaN   \n",
       "2              Pick-up Truck                 NaN                 NaN   \n",
       "3                        NaN                 NaN                 NaN   \n",
       "4                        NaN                 NaN                 NaN   \n",
       "...                      ...                 ...                 ...   \n",
       "2018240                Sedan                 NaN                 NaN   \n",
       "2018241                  NaN                 NaN                 NaN   \n",
       "2018242                  NaN                 NaN                 NaN   \n",
       "2018243               E-Bike                 NaN                 NaN   \n",
       "2018244                  NaN                 NaN                 NaN   \n",
       "\n",
       "        VEHICLE TYPE CODE 5  \n",
       "0                       NaN  \n",
       "1                       NaN  \n",
       "2                       NaN  \n",
       "3                       NaN  \n",
       "4                       NaN  \n",
       "...                     ...  \n",
       "2018240                 NaN  \n",
       "2018241                 NaN  \n",
       "2018242                 NaN  \n",
       "2018243                 NaN  \n",
       "2018244                 NaN  \n",
       "\n",
       "[2018245 rows x 28 columns]"
      ]
     },
     "execution_count": 2,
     "metadata": {},
     "output_type": "execute_result"
    }
   ],
   "source": [
    "df = pd.read_pickle(\"Motor_Vehicle_Collisions_-_Crashes.pkl\")\n",
    "df\n"
   ]
  },
  {
   "cell_type": "markdown",
   "id": "87123ec4-745a-471d-9439-41b02b66e474",
   "metadata": {
    "tags": []
   },
   "source": [
    "***\n",
    "### Show some exploratory data analysis here\n",
    "***"
   ]
  },
  {
   "cell_type": "code",
   "execution_count": 9,
   "id": "4c22990a-2a8f-467f-b81e-9ea87305efae",
   "metadata": {
    "tags": []
   },
   "outputs": [
    {
     "name": "stdout",
     "output_type": "stream",
     "text": [
      "<class 'pandas.core.frame.DataFrame'>\n",
      "RangeIndex: 2018245 entries, 0 to 2018244\n",
      "Data columns (total 28 columns):\n",
      " #   Column                         Dtype         \n",
      "---  ------                         -----         \n",
      " 0   CRASH DATE_CRASH TIME          datetime64[ns]\n",
      " 1   BOROUGH                        object        \n",
      " 2   ZIP CODE                       object        \n",
      " 3   LATITUDE                       float64       \n",
      " 4   LONGITUDE                      float64       \n",
      " 5   LOCATION                       object        \n",
      " 6   ON STREET NAME                 object        \n",
      " 7   CROSS STREET NAME              object        \n",
      " 8   OFF STREET NAME                object        \n",
      " 9   NUMBER OF PERSONS INJURED      float64       \n",
      " 10  NUMBER OF PERSONS KILLED       float64       \n",
      " 11  NUMBER OF PEDESTRIANS INJURED  int64         \n",
      " 12  NUMBER OF PEDESTRIANS KILLED   int64         \n",
      " 13  NUMBER OF CYCLIST INJURED      int64         \n",
      " 14  NUMBER OF CYCLIST KILLED       int64         \n",
      " 15  NUMBER OF MOTORIST INJURED     int64         \n",
      " 16  NUMBER OF MOTORIST KILLED      int64         \n",
      " 17  CONTRIBUTING FACTOR VEHICLE 1  object        \n",
      " 18  CONTRIBUTING FACTOR VEHICLE 2  object        \n",
      " 19  CONTRIBUTING FACTOR VEHICLE 3  object        \n",
      " 20  CONTRIBUTING FACTOR VEHICLE 4  object        \n",
      " 21  CONTRIBUTING FACTOR VEHICLE 5  object        \n",
      " 22  COLLISION_ID                   int64         \n",
      " 23  VEHICLE TYPE CODE 1            object        \n",
      " 24  VEHICLE TYPE CODE 2            object        \n",
      " 25  VEHICLE TYPE CODE 3            object        \n",
      " 26  VEHICLE TYPE CODE 4            object        \n",
      " 27  VEHICLE TYPE CODE 5            object        \n",
      "dtypes: datetime64[ns](1), float64(4), int64(7), object(16)\n",
      "memory usage: 431.1+ MB\n"
     ]
    }
   ],
   "source": [
    "df.info()"
   ]
  },
  {
   "cell_type": "markdown",
   "id": "1e7102e9-629a-4594-998d-a9b1e3e8c598",
   "metadata": {
    "tags": []
   },
   "source": [
    "## Borough with the maximum number of crashes reported since 2012"
   ]
  },
  {
   "cell_type": "code",
   "execution_count": 3,
   "id": "878e157a-5f36-410b-bdfb-c8d249da8e32",
   "metadata": {
    "tags": []
   },
   "outputs": [
    {
     "data": {
      "text/plain": [
       "BOROUGH\n",
       "BROOKLYN         441026\n",
       "QUEENS           372457\n",
       "MANHATTAN        313266\n",
       "BRONX            205345\n",
       "STATEN ISLAND     58297\n",
       "Name: count, dtype: int64"
      ]
     },
     "execution_count": 3,
     "metadata": {},
     "output_type": "execute_result"
    }
   ],
   "source": [
    "df['BOROUGH'].value_counts()"
   ]
  },
  {
   "cell_type": "markdown",
   "id": "9dcc3fa1-abc2-45cf-b608-eb8eb6317f53",
   "metadata": {},
   "source": [
    "## Borough with the maximum number of crashes adjusted for population"
   ]
  },
  {
   "cell_type": "code",
   "execution_count": 34,
   "id": "a2b5f2bd-d905-4cb5-ac53-68cd39dedaac",
   "metadata": {
    "tags": []
   },
   "outputs": [
    {
     "data": {
      "text/html": [
       "<div>\n",
       "<style scoped>\n",
       "    .dataframe tbody tr th:only-of-type {\n",
       "        vertical-align: middle;\n",
       "    }\n",
       "\n",
       "    .dataframe tbody tr th {\n",
       "        vertical-align: top;\n",
       "    }\n",
       "\n",
       "    .dataframe thead th {\n",
       "        text-align: right;\n",
       "    }\n",
       "</style>\n",
       "<table border=\"1\" class=\"dataframe\">\n",
       "  <thead>\n",
       "    <tr style=\"text-align: right;\">\n",
       "      <th></th>\n",
       "      <th>Borough</th>\n",
       "      <th>Population</th>\n",
       "    </tr>\n",
       "  </thead>\n",
       "  <tbody>\n",
       "    <tr>\n",
       "      <th>0</th>\n",
       "      <td>Bronx</td>\n",
       "      <td>1446788</td>\n",
       "    </tr>\n",
       "    <tr>\n",
       "      <th>1</th>\n",
       "      <td>Brooklyn</td>\n",
       "      <td>2648452</td>\n",
       "    </tr>\n",
       "    <tr>\n",
       "      <th>2</th>\n",
       "      <td>Manhattan</td>\n",
       "      <td>1638281</td>\n",
       "    </tr>\n",
       "    <tr>\n",
       "      <th>3</th>\n",
       "      <td>Queens</td>\n",
       "      <td>2330295</td>\n",
       "    </tr>\n",
       "    <tr>\n",
       "      <th>4</th>\n",
       "      <td>Staten Island</td>\n",
       "      <td>487155</td>\n",
       "    </tr>\n",
       "  </tbody>\n",
       "</table>\n",
       "</div>"
      ],
      "text/plain": [
       "         Borough  Population\n",
       "0          Bronx     1446788\n",
       "1       Brooklyn     2648452\n",
       "2      Manhattan     1638281\n",
       "3         Queens     2330295\n",
       "4  Staten Island      487155"
      ]
     },
     "execution_count": 34,
     "metadata": {},
     "output_type": "execute_result"
    }
   ],
   "source": [
    "data = {'Borough': ['Bronx', 'Brooklyn', 'Manhattan', 'Queens', 'Staten Island'],\n",
    "        'Population': [1446788, 2648452, 1638281, 2330295, 487155]}\n",
    "\n",
    "dfb = pd.DataFrame(data)\n",
    "dfb"
   ]
  },
  {
   "cell_type": "code",
   "execution_count": 35,
   "id": "1a33e116-5ef7-4abf-bd46-9fa339149b6a",
   "metadata": {
    "tags": []
   },
   "outputs": [
    {
     "ename": "KeyError",
     "evalue": "'BOROUGH'",
     "output_type": "error",
     "traceback": [
      "\u001b[0;31m---------------------------------------------------------------------------\u001b[0m",
      "\u001b[0;31mKeyError\u001b[0m                                  Traceback (most recent call last)",
      "File \u001b[0;32m/opt/conda/envs/mggy8413/lib/python3.10/site-packages/pandas/core/indexes/base.py:3653\u001b[0m, in \u001b[0;36mIndex.get_loc\u001b[0;34m(self, key)\u001b[0m\n\u001b[1;32m   3652\u001b[0m \u001b[38;5;28;01mtry\u001b[39;00m:\n\u001b[0;32m-> 3653\u001b[0m     \u001b[38;5;28;01mreturn\u001b[39;00m \u001b[38;5;28;43mself\u001b[39;49m\u001b[38;5;241;43m.\u001b[39;49m\u001b[43m_engine\u001b[49m\u001b[38;5;241;43m.\u001b[39;49m\u001b[43mget_loc\u001b[49m\u001b[43m(\u001b[49m\u001b[43mcasted_key\u001b[49m\u001b[43m)\u001b[49m\n\u001b[1;32m   3654\u001b[0m \u001b[38;5;28;01mexcept\u001b[39;00m \u001b[38;5;167;01mKeyError\u001b[39;00m \u001b[38;5;28;01mas\u001b[39;00m err:\n",
      "File \u001b[0;32m/opt/conda/envs/mggy8413/lib/python3.10/site-packages/pandas/_libs/index.pyx:147\u001b[0m, in \u001b[0;36mpandas._libs.index.IndexEngine.get_loc\u001b[0;34m()\u001b[0m\n",
      "File \u001b[0;32m/opt/conda/envs/mggy8413/lib/python3.10/site-packages/pandas/_libs/index.pyx:176\u001b[0m, in \u001b[0;36mpandas._libs.index.IndexEngine.get_loc\u001b[0;34m()\u001b[0m\n",
      "File \u001b[0;32mpandas/_libs/hashtable_class_helper.pxi:7080\u001b[0m, in \u001b[0;36mpandas._libs.hashtable.PyObjectHashTable.get_item\u001b[0;34m()\u001b[0m\n",
      "File \u001b[0;32mpandas/_libs/hashtable_class_helper.pxi:7088\u001b[0m, in \u001b[0;36mpandas._libs.hashtable.PyObjectHashTable.get_item\u001b[0;34m()\u001b[0m\n",
      "\u001b[0;31mKeyError\u001b[0m: 'BOROUGH'",
      "\nThe above exception was the direct cause of the following exception:\n",
      "\u001b[0;31mKeyError\u001b[0m                                  Traceback (most recent call last)",
      "Cell \u001b[0;32mIn[35], line 1\u001b[0m\n\u001b[0;32m----> 1\u001b[0m borough_counts \u001b[38;5;241m=\u001b[39m \u001b[43mdfb\u001b[49m\u001b[43m[\u001b[49m\u001b[38;5;124;43m'\u001b[39;49m\u001b[38;5;124;43mBOROUGH\u001b[39;49m\u001b[38;5;124;43m'\u001b[39;49m\u001b[43m]\u001b[49m\u001b[38;5;241m.\u001b[39mvalue_counts()\n\u001b[1;32m      2\u001b[0m max_borough \u001b[38;5;241m=\u001b[39m borough_counts\u001b[38;5;241m.\u001b[39midxmax()\n\u001b[1;32m      3\u001b[0m max_count \u001b[38;5;241m=\u001b[39m borough_counts\u001b[38;5;241m.\u001b[39mmax()\n",
      "File \u001b[0;32m/opt/conda/envs/mggy8413/lib/python3.10/site-packages/pandas/core/frame.py:3761\u001b[0m, in \u001b[0;36mDataFrame.__getitem__\u001b[0;34m(self, key)\u001b[0m\n\u001b[1;32m   3759\u001b[0m \u001b[38;5;28;01mif\u001b[39;00m \u001b[38;5;28mself\u001b[39m\u001b[38;5;241m.\u001b[39mcolumns\u001b[38;5;241m.\u001b[39mnlevels \u001b[38;5;241m>\u001b[39m \u001b[38;5;241m1\u001b[39m:\n\u001b[1;32m   3760\u001b[0m     \u001b[38;5;28;01mreturn\u001b[39;00m \u001b[38;5;28mself\u001b[39m\u001b[38;5;241m.\u001b[39m_getitem_multilevel(key)\n\u001b[0;32m-> 3761\u001b[0m indexer \u001b[38;5;241m=\u001b[39m \u001b[38;5;28;43mself\u001b[39;49m\u001b[38;5;241;43m.\u001b[39;49m\u001b[43mcolumns\u001b[49m\u001b[38;5;241;43m.\u001b[39;49m\u001b[43mget_loc\u001b[49m\u001b[43m(\u001b[49m\u001b[43mkey\u001b[49m\u001b[43m)\u001b[49m\n\u001b[1;32m   3762\u001b[0m \u001b[38;5;28;01mif\u001b[39;00m is_integer(indexer):\n\u001b[1;32m   3763\u001b[0m     indexer \u001b[38;5;241m=\u001b[39m [indexer]\n",
      "File \u001b[0;32m/opt/conda/envs/mggy8413/lib/python3.10/site-packages/pandas/core/indexes/base.py:3655\u001b[0m, in \u001b[0;36mIndex.get_loc\u001b[0;34m(self, key)\u001b[0m\n\u001b[1;32m   3653\u001b[0m     \u001b[38;5;28;01mreturn\u001b[39;00m \u001b[38;5;28mself\u001b[39m\u001b[38;5;241m.\u001b[39m_engine\u001b[38;5;241m.\u001b[39mget_loc(casted_key)\n\u001b[1;32m   3654\u001b[0m \u001b[38;5;28;01mexcept\u001b[39;00m \u001b[38;5;167;01mKeyError\u001b[39;00m \u001b[38;5;28;01mas\u001b[39;00m err:\n\u001b[0;32m-> 3655\u001b[0m     \u001b[38;5;28;01mraise\u001b[39;00m \u001b[38;5;167;01mKeyError\u001b[39;00m(key) \u001b[38;5;28;01mfrom\u001b[39;00m \u001b[38;5;21;01merr\u001b[39;00m\n\u001b[1;32m   3656\u001b[0m \u001b[38;5;28;01mexcept\u001b[39;00m \u001b[38;5;167;01mTypeError\u001b[39;00m:\n\u001b[1;32m   3657\u001b[0m     \u001b[38;5;66;03m# If we have a listlike key, _check_indexing_error will raise\u001b[39;00m\n\u001b[1;32m   3658\u001b[0m     \u001b[38;5;66;03m#  InvalidIndexError. Otherwise we fall through and re-raise\u001b[39;00m\n\u001b[1;32m   3659\u001b[0m     \u001b[38;5;66;03m#  the TypeError.\u001b[39;00m\n\u001b[1;32m   3660\u001b[0m     \u001b[38;5;28mself\u001b[39m\u001b[38;5;241m.\u001b[39m_check_indexing_error(key)\n",
      "\u001b[0;31mKeyError\u001b[0m: 'BOROUGH'"
     ]
    }
   ],
   "source": [
    "borough_counts = dfb['BOROUGH'].value_counts()\n",
    "max_borough = borough_counts.idxmax()\n",
    "max_count = borough_counts.max()\n",
    "print(max_borough,max_count)"
   ]
  },
  {
   "cell_type": "markdown",
   "id": "ef0c5d5b-e968-4be8-b7b7-865bb3fc23d4",
   "metadata": {},
   "source": [
    "## Analyzing the leading cause of crashes"
   ]
  },
  {
   "cell_type": "code",
   "execution_count": 4,
   "id": "e0b6e9df-992b-418b-b494-e6035afe5a31",
   "metadata": {
    "tags": []
   },
   "outputs": [
    {
     "name": "stdout",
     "output_type": "stream",
     "text": [
      "Driver Inattention/Distraction 30.27229539746618\n"
     ]
    }
   ],
   "source": [
    "filtered_df = df[df['CONTRIBUTING FACTOR VEHICLE 1'] != 'Unspecified']\n",
    "\n",
    "crash_counts = filtered_df['CONTRIBUTING FACTOR VEHICLE 1'].value_counts()\n",
    "leading_cause = crash_counts.idxmax()\n",
    "number_of_leading_cause = crash_counts.max()\n",
    "\n",
    "total_accidents = len(filtered_df)\n",
    "proportion = number_of_leading_cause / total_accidents*100\n",
    "print(leading_cause,proportion)"
   ]
  },
  {
   "cell_type": "markdown",
   "id": "1335f127-2b39-460f-ad01-fc21a37b6cb6",
   "metadata": {},
   "source": [
    "## Top 3 causes of crashes "
   ]
  },
  {
   "cell_type": "code",
   "execution_count": 5,
   "id": "a97652c3-fc7d-4cb1-b1e2-f5c561f03380",
   "metadata": {
    "tags": []
   },
   "outputs": [
    {
     "data": {
      "text/plain": [
       "CONTRIBUTING FACTOR VEHICLE 1\n",
       "Driver Inattention/Distraction    401262\n",
       "Failure to Yield Right-of-Way     119166\n",
       "Following Too Closely             107467\n",
       "Name: count, dtype: int64"
      ]
     },
     "execution_count": 5,
     "metadata": {},
     "output_type": "execute_result"
    }
   ],
   "source": [
    "crash_counts.head(3)"
   ]
  },
  {
   "cell_type": "code",
   "execution_count": 6,
   "id": "ac628cb6-04cb-4fc5-bd7f-a4040fefe20a",
   "metadata": {
    "tags": []
   },
   "outputs": [
    {
     "data": {
      "text/plain": [
       "47.37010461641528"
      ]
     },
     "execution_count": 6,
     "metadata": {},
     "output_type": "execute_result"
    }
   ],
   "source": [
    "Top_3=crash_counts.head(3).sum()\n",
    "proporation= Top_3/total_accidents*100\n",
    "proporation"
   ]
  },
  {
   "cell_type": "markdown",
   "id": "af729ee2-786e-4c89-abfd-e3d24e2823f1",
   "metadata": {},
   "source": [
    "## Analyzing fatalities"
   ]
  },
  {
   "cell_type": "code",
   "execution_count": 18,
   "id": "eca5bee3-6ec7-4ac2-98c1-d97267e9104b",
   "metadata": {
    "tags": []
   },
   "outputs": [
    {
     "name": "stdout",
     "output_type": "stream",
     "text": [
      "2804\n"
     ]
    }
   ],
   "source": [
    "fatal_accidents = df[df['NUMBER OF PERSONS KILLED'] > 0]\n",
    "\n",
    "fatal_accident_count = len(fatal_accidents)\n",
    "\n",
    "print(fatal_accident_count)"
   ]
  },
  {
   "cell_type": "markdown",
   "id": "529a81c2-4eec-46d5-be60-1ff75d82baf5",
   "metadata": {},
   "source": [
    "## Likelihood of fatal accidents\n",
    "#### On average, out of every 1000 accidents, how many have resulted in at least one person dead?"
   ]
  },
  {
   "cell_type": "code",
   "execution_count": 21,
   "id": "77048e81-452a-4a0b-9e09-2efb4ca249b0",
   "metadata": {
    "tags": []
   },
   "outputs": [
    {
     "data": {
      "text/plain": [
       "Index(['CRASH DATE_CRASH TIME', 'BOROUGH', 'ZIP CODE', 'LATITUDE', 'LONGITUDE',\n",
       "       'LOCATION', 'ON STREET NAME', 'CROSS STREET NAME', 'OFF STREET NAME',\n",
       "       'NUMBER OF PERSONS INJURED', 'NUMBER OF PERSONS KILLED',\n",
       "       'NUMBER OF PEDESTRIANS INJURED', 'NUMBER OF PEDESTRIANS KILLED',\n",
       "       'NUMBER OF CYCLIST INJURED', 'NUMBER OF CYCLIST KILLED',\n",
       "       'NUMBER OF MOTORIST INJURED', 'NUMBER OF MOTORIST KILLED',\n",
       "       'CONTRIBUTING FACTOR VEHICLE 1', 'CONTRIBUTING FACTOR VEHICLE 2',\n",
       "       'CONTRIBUTING FACTOR VEHICLE 3', 'CONTRIBUTING FACTOR VEHICLE 4',\n",
       "       'CONTRIBUTING FACTOR VEHICLE 5', 'COLLISION_ID', 'VEHICLE TYPE CODE 1',\n",
       "       'VEHICLE TYPE CODE 2', 'VEHICLE TYPE CODE 3', 'VEHICLE TYPE CODE 4',\n",
       "       'VEHICLE TYPE CODE 5'],\n",
       "      dtype='object')"
      ]
     },
     "execution_count": 21,
     "metadata": {},
     "output_type": "execute_result"
    }
   ],
   "source": [
    "df.columns"
   ]
  },
  {
   "cell_type": "code",
   "execution_count": 28,
   "id": "27cd0c11-22cf-4fd4-8a08-4947391358c9",
   "metadata": {
    "tags": []
   },
   "outputs": [
    {
     "data": {
      "text/plain": [
       "1.3893258747079764"
      ]
     },
     "execution_count": 28,
     "metadata": {},
     "output_type": "execute_result"
    }
   ],
   "source": [
    "total_accident_count = len(df['COLLISION_ID'])\n",
    "\n",
    "fatal_per_1000 = (fatal_accident_count / total_accident_count) * 1000\n",
    "fatal_per_1000"
   ]
  },
  {
   "cell_type": "markdown",
   "id": "8ad2d315-425c-44bb-a6ee-33f9941e591c",
   "metadata": {},
   "source": [
    "## Missing data\n",
    "#### What proportion of accidents in the data do not have a Borough code?"
   ]
  },
  {
   "cell_type": "code",
   "execution_count": 30,
   "id": "82ff7c6c-6e89-4f47-b960-2bdcfde66f5d",
   "metadata": {
    "tags": []
   },
   "outputs": [
    {
     "name": "stdout",
     "output_type": "stream",
     "text": [
      "31.10890897784957\n"
     ]
    }
   ],
   "source": [
    "no_borough_count = df['BOROUGH'].isnull().sum()\n",
    "proportion_no_borough = no_borough_count / total_accident_count*100\n",
    "print(proportion_no_borough)"
   ]
  },
  {
   "cell_type": "markdown",
   "id": "54f883ce-64fe-4c77-a4a3-49def210382d",
   "metadata": {
    "tags": []
   },
   "source": [
    "## Which combinations of vehicles have the most number of accidents"
   ]
  },
  {
   "cell_type": "code",
   "execution_count": 17,
   "id": "21c659ff-2e5a-47af-b3ea-7f7578cf69f2",
   "metadata": {
    "tags": []
   },
   "outputs": [
    {
     "name": "stdout",
     "output_type": "stream",
     "text": [
      "('Sedan', 'Sedan')\n"
     ]
    }
   ],
   "source": [
    "pivot_table = df.pivot_table(index='VEHICLE TYPE CODE 1', columns='VEHICLE TYPE CODE 2', \n",
    "                             aggfunc='size', fill_value=0)\n",
    "max_index = pivot_table.stack().idxmax()\n",
    "\n",
    "print(max_index)"
   ]
  },
  {
   "cell_type": "markdown",
   "id": "3ca87ac5-5ade-4e1c-aeb8-0704afe6b2ac",
   "metadata": {
    "tags": []
   },
   "source": [
    "***  \n",
    "## Finished"
   ]
  },
  {
   "cell_type": "code",
   "execution_count": null,
   "id": "b9c8b70c-be57-489a-823f-fc1762926532",
   "metadata": {},
   "outputs": [],
   "source": []
  },
  {
   "cell_type": "code",
   "execution_count": null,
   "id": "372cbed9-ce19-4ac7-8cb5-fd4a304f92b2",
   "metadata": {},
   "outputs": [],
   "source": []
  }
 ],
 "metadata": {
  "kernelspec": {
   "display_name": "Python [conda env:mggy8413]",
   "language": "python",
   "name": "conda-env-mggy8413-py"
  },
  "language_info": {
   "codemirror_mode": {
    "name": "ipython",
    "version": 3
   },
   "file_extension": ".py",
   "mimetype": "text/x-python",
   "name": "python",
   "nbconvert_exporter": "python",
   "pygments_lexer": "ipython3",
   "version": "3.10.12"
  },
  "toc-autonumbering": false
 },
 "nbformat": 4,
 "nbformat_minor": 5
}
